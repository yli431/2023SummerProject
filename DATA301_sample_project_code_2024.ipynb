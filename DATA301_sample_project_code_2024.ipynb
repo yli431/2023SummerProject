{
  "nbformat": 4,
  "nbformat_minor": 0,
  "metadata": {
    "colab": {
      "provenance": [],
      "include_colab_link": true
    },
    "kernelspec": {
      "name": "python3",
      "display_name": "Python 3"
    },
    "language_info": {
      "name": "python"
    }
  },
  "cells": [
    {
      "cell_type": "markdown",
      "metadata": {
        "id": "view-in-github",
        "colab_type": "text"
      },
      "source": [
        "<a href=\"https://colab.research.google.com/github/yli431/2023SummerProject/blob/main/DATA301_sample_project_code_2024.ipynb\" target=\"_parent\"><img src=\"https://colab.research.google.com/assets/colab-badge.svg\" alt=\"Open In Colab\"/></a>"
      ]
    },
    {
      "cell_type": "markdown",
      "source": [
        "#Sample project\n",
        "In this abbreviated study, we answer the question:\n",
        "What are the most common (non stop-word) words associated with restaurant reviews that are 1, 2, 3, 4, and 5 star?\n",
        "\n",
        "Method: we will compute word frequencies after first removing all words in NLTK's stop word category. We will then group by restaurant star rating."
      ],
      "metadata": {
        "id": "q1oO8NdBQbr6"
      }
    },
    {
      "cell_type": "markdown",
      "source": [
        "##Download data\n",
        "We will use a filtered dataset collected by from Google Maps (see https://cseweb.ucsd.edu/~jmcauley/datasets.html#google_restaurants)\n"
      ],
      "metadata": {
        "id": "qTL3uohrRJQg"
      }
    },
    {
      "cell_type": "code",
      "execution_count": 1,
      "metadata": {
        "colab": {
          "base_uri": "https://localhost:8080/"
        },
        "id": "qFXqi4ZeP8tI",
        "outputId": "e7ba3187-880e-4cf2-96d2-f369231c7f79"
      },
      "outputs": [
        {
          "output_type": "execute_result",
          "data": {
            "text/plain": [
              "('filter-all-t.json', <http.client.HTTPMessage at 0x7f51ce97c340>)"
            ]
          },
          "metadata": {},
          "execution_count": 1
        }
      ],
      "source": [
        "import urllib.request\n",
        "filename = 'filter-all-t.json'\n",
        "urllib.request.urlretrieve('https://datarepo.eng.ucsd.edu/mcauley_group/gdrive/googlelocal_restaurants/filter_all_t.json', filename)\n"
      ]
    },
    {
      "cell_type": "code",
      "source": [
        "!pip install ijson"
      ],
      "metadata": {
        "colab": {
          "base_uri": "https://localhost:8080/"
        },
        "id": "sf0rO0k2SH-h",
        "outputId": "3b5c8e34-da66-4492-b494-c543c67a3d2e"
      },
      "execution_count": 2,
      "outputs": [
        {
          "output_type": "stream",
          "name": "stdout",
          "text": [
            "Collecting ijson\n",
            "  Downloading ijson-3.2.3-cp310-cp310-manylinux_2_17_x86_64.manylinux2014_x86_64.whl (111 kB)\n",
            "\u001b[2K     \u001b[90m━━━━━━━━━━━━━━━━━━━━━━━━━━━━━━━━━━━━━━━━\u001b[0m \u001b[32m111.8/111.8 kB\u001b[0m \u001b[31m2.1 MB/s\u001b[0m eta \u001b[36m0:00:00\u001b[0m\n",
            "\u001b[?25hInstalling collected packages: ijson\n",
            "Successfully installed ijson-3.2.3\n"
          ]
        }
      ]
    },
    {
      "cell_type": "code",
      "source": [
        "#custom extraction of tags from the original json file\n",
        "#This is sequential and could be done in parallel but the effort is not worth it\n",
        "#JSON is a poor format for random access storage and splitting data sets, so\n",
        "# this code converts it to JSON-lines and filters out data we don't need for this project\n",
        "import json, ijson\n",
        "\n",
        "def convert_to_jsonl(filename):\n",
        "  parser = ijson.parse(open(filename))\n",
        "  with open(filename+'l', 'w') as output:\n",
        "    # output.write('[\\n')\n",
        "    rating = {}\n",
        "    # first = True\n",
        "    for prefix, event, value in parser:\n",
        "      if prefix.endswith('rating'):\n",
        "        rating['rating'] = value\n",
        "      elif prefix.endswith('review_text'):\n",
        "        rating['review'] = value\n",
        "        # if not first:\n",
        "        #   output.write('\\n')\n",
        "        first = False\n",
        "        output.write(json.dumps(rating))\n",
        "        output.write('\\n')\n",
        "\n",
        "    # output.write('\\n]\\n')\n",
        "convert_to_jsonl('filter-all-t.json')"
      ],
      "metadata": {
        "id": "m2aA90ICIuuJ"
      },
      "execution_count": 3,
      "outputs": []
    },
    {
      "cell_type": "code",
      "source": [
        "#shows a sample of the first and last 10 extracted reviews\n",
        "!head -10 'filter-all-t.jsonl'\n",
        "!tail -10 'filter-all-t.jsonl'"
      ],
      "metadata": {
        "colab": {
          "base_uri": "https://localhost:8080/"
        },
        "id": "omjw8G_WZl3F",
        "outputId": "2162b651-1258-4027-eb40-4fadaf1e096b"
      },
      "execution_count": 4,
      "outputs": [
        {
          "output_type": "stream",
          "name": "stdout",
          "text": [
            "{\"rating\": 4, \"review\": \"The tang of the tomato sauce is outstanding. And the crust is a meal, as it should be. Order a whole pie fresh.\"}\n",
            "{\"rating\": 5, \"review\": \"Chicken and waffles were really good!\"}\n",
            "{\"rating\": 4, \"review\": \"The appetizer of colossal shrimp was very good but the freshwater Lobster was a bit disappointing. The lobster mac and cheese was great. We got the 40 day dry aged rib steak for two. It was cooked very well , but I wish it had more of that signature aged steak flavor.\"}\n",
            "{\"rating\": 5, \"review\": \"The fish tacos here  omg! The salad was great also.\"}\n",
            "{\"rating\": 4, \"review\": \"Ribs are great, as are the mac and cheese, fries and onion rings. Skip the brisket and blueberry cornbread.\"}\n",
            "{\"rating\": 5, \"review\": \"Food are yummy, wide range of Asian street food.\"}\n",
            "{\"rating\": 5, \"review\": \".  Roasted beets and brussel sprouts.  Tommy's Salad, customized w/ all spinach; added grilled chicken.  Lobster Seafood (seasonal special)\"}\n",
            "{\"rating\": 5, \"review\": \"10/10 recommend:. Deviled eggs. Fried bologna sandwich. (Cocktail) last of the Denver, the last dinosaurs\"}\n",
            "{\"rating\": 5, \"review\": \"I've never lived in Japan so California rolls aren't sushi! I avoid it every time I go abroad, but living abroad for many years makes raw fish so precious that I have to eat anything! So I decided to talk about California rolls, but I understand why it's so popular! It's cooked with the taste in mind, so it has a good aftertaste overall, and if you're thinking about California rolls, this is a recommended dish that you should definitely try.\"}\n",
            "{\"rating\": 5, \"review\": \"The s'mores melt was amazing\"}\n",
            "{\"rating\": 4, \"review\": \"Started with the crab cakes. Authentic crab cake look and feel. Not a flavor I associate with crab cakes. Coconut milk chocolate coffee shake was amazing!\"}\n",
            "{\"rating\": 5, \"review\": \"Real deal NYC Pizza.\"}\n",
            "{\"rating\": 4, \"review\": \"Seafood was good as well for being in Utah.\"}\n",
            "{\"rating\": 3, \"review\": \"Oysters, Mac and cheese and the ice cream tacos are my go to.\"}\n",
            "{\"rating\": 5, \"review\": \"Beautifully cooked, fresh seafood (check the blackboard menu for specials). Can choose between different preparations, like fried or grilled.\"}\n",
            "{\"rating\": 5, \"review\": \"The pancakes were light and fluffy, the eggs and biscuits and sausage and gravy were delicious, and the millionaire bacon was unbelievably good.\"}\n",
            "{\"rating\": 5, \"review\": \"Fish and chips/fries very fresh and very good really soft pretzels a lot of fresh made meals here .\"}\n",
            "{\"rating\": 2, \"review\": \"The place is known for quantity and not quality for the veg Biryani I was served.\"}\n",
            "{\"rating\": 5, \"review\": \"Great drinks (margaritas!!! My favorites eat are: yucca fries, salsa trio with guacamole and chips, and cooled salad with steak. Last time I had the pozole on a cold day and it fantastic comfort food.\"}\n",
            "{\"rating\": 5, \"review\": \"Really good salad and pizza.\"}\n"
          ]
        }
      ]
    },
    {
      "cell_type": "markdown",
      "source": [
        "## Loading the data into a Dask Dataframe\n",
        "See https://docs.dask.org/en/latest/generated/dask.dataframe.read_json.html"
      ],
      "metadata": {
        "id": "HWb5fUhuVrJ1"
      }
    },
    {
      "cell_type": "code",
      "source": [
        "import dask\n",
        "# from dask import dataframe as ddf\n",
        "from dask import bag as db\n",
        "\n",
        "# data_df = ddf.read_json('filter-all-t.jsonl', blocksize=\"1MB\")\n",
        "data_bag = db.read_text('filter-all-t.jsonl', blocksize=\"1MB\")\n",
        "print(data_bag)"
      ],
      "metadata": {
        "colab": {
          "base_uri": "https://localhost:8080/"
        },
        "id": "uKfqNXIeHJfW",
        "outputId": "bdd39b8e-0b88-43bd-d768-f43186fabb2f"
      },
      "execution_count": 5,
      "outputs": [
        {
          "output_type": "stream",
          "name": "stdout",
          "text": [
            "dask.bag<bag-from-delayed, npartitions=17>\n"
          ]
        }
      ]
    },
    {
      "cell_type": "code",
      "source": [
        "#download a set of stop words that we can ignore because they are not interesting\n",
        "\n",
        "!pip install nltk"
      ],
      "metadata": {
        "colab": {
          "base_uri": "https://localhost:8080/"
        },
        "id": "63XFiS7vOxhZ",
        "outputId": "27b29d6d-6b21-43e4-83b1-a0076066e307"
      },
      "execution_count": 6,
      "outputs": [
        {
          "output_type": "stream",
          "name": "stdout",
          "text": [
            "Requirement already satisfied: nltk in /usr/local/lib/python3.10/dist-packages (3.8.1)\n",
            "Requirement already satisfied: click in /usr/local/lib/python3.10/dist-packages (from nltk) (8.1.7)\n",
            "Requirement already satisfied: joblib in /usr/local/lib/python3.10/dist-packages (from nltk) (1.4.2)\n",
            "Requirement already satisfied: regex>=2021.8.3 in /usr/local/lib/python3.10/dist-packages (from nltk) (2023.12.25)\n",
            "Requirement already satisfied: tqdm in /usr/local/lib/python3.10/dist-packages (from nltk) (4.66.4)\n"
          ]
        }
      ]
    },
    {
      "cell_type": "code",
      "source": [
        "import nltk\n",
        "nltk.download('stopwords')\n",
        "\n",
        "from nltk.corpus import stopwords\n",
        "\n",
        "STOP_WORDS = set(stopwords.words('english'))\n",
        "print(STOP_WORDS)\n"
      ],
      "metadata": {
        "colab": {
          "base_uri": "https://localhost:8080/"
        },
        "id": "u2PhDd-UOwsX",
        "outputId": "42f568b3-a17d-4e86-bf2c-70e6a19aa2f5"
      },
      "execution_count": 8,
      "outputs": [
        {
          "output_type": "stream",
          "name": "stdout",
          "text": [
            "{'yours', 'll', 'did', 'on', 'own', 'needn', 'couldn', 'should', 'who', 'hasn', \"don't\", \"you'll\", 'your', 'whom', 'themselves', 'below', 'but', \"couldn't\", 'it', 'wasn', 'again', 'no', \"shan't\", 'for', 'itself', 'then', 'was', 'just', 'all', 'yourselves', 'down', 'ma', 'shan', 'off', 'now', 'here', 'of', 'yourself', 'not', \"you're\", 'herself', 'hers', 'into', 's', 'which', 'over', 'to', 'than', \"hasn't\", 'each', 'until', 'were', 'from', 'very', 'her', 'has', 'an', 'isn', 'do', 'wouldn', 'with', 'he', 'how', 'its', 'what', 'm', 'them', 'about', 'more', 'nor', 'will', 'd', 'both', 'is', 'in', 'mustn', \"haven't\", 'above', \"wasn't\", 'don', 're', 'been', 'the', 'me', \"didn't\", 'their', 'through', 't', 'after', 've', \"needn't\", 'won', 'you', 'theirs', 'have', \"hadn't\", 'haven', 'mightn', 'this', 'before', 'few', 'that', 'doesn', 'between', \"weren't\", 'further', 'him', 'other', 'i', 'ourselves', 'these', 'doing', 'why', 'so', \"aren't\", 'any', \"shouldn't\", \"that'll\", 'too', 'having', 'same', 'his', 'be', 'and', 'ain', 'or', 'we', 'while', 'at', 'a', 'only', 'does', 'shouldn', 'such', 'o', 'myself', \"you'd\", 'some', 'they', 'my', 'as', 'when', \"you've\", \"should've\", 'ours', \"mustn't\", 'where', 'against', 'because', 'by', \"doesn't\", 'out', 'most', 'if', 'am', 'hadn', 'she', 'up', 'under', 'can', 'once', 'are', \"it's\", \"isn't\", 'had', 'weren', 'himself', 'during', 'our', \"she's\", \"wouldn't\", 'y', 'didn', 'those', 'being', 'aren', \"won't\", 'there', \"mightn't\"}\n"
          ]
        },
        {
          "output_type": "stream",
          "name": "stderr",
          "text": [
            "[nltk_data] Downloading package stopwords to /root/nltk_data...\n",
            "[nltk_data]   Unzipping corpora/stopwords.zip.\n"
          ]
        }
      ]
    },
    {
      "cell_type": "code",
      "source": [
        "import re\n",
        "import json\n",
        "\n",
        "def remove_nonletters(word):\n",
        "  return\n",
        "\n",
        "def process_line(line):\n",
        "  entry = json.loads(line)\n",
        "  results = []\n",
        "  rating = int(entry['rating'])\n",
        "  # removes punctuation and converts to lowercase\n",
        "  review = re.sub(r'[^a-zA-Z ]', '', entry['review'].lower())\n",
        "  for word in review.split(\" \"):\n",
        "    # don't keep any words that are in STOP_WORDS\n",
        "    if len(word) > 0 and word not in STOP_WORDS:\n",
        "      results.append((rating, word))\n",
        "  return results\n",
        "\n",
        "reviews_only_valid_words = data_bag.map(process_line).flatten()\n",
        "ratings_words_df = reviews_only_valid_words.to_dataframe(columns=['rating', 'word'])\n"
      ],
      "metadata": {
        "id": "dqOLsCwLF4FF"
      },
      "execution_count": 9,
      "outputs": []
    },
    {
      "cell_type": "code",
      "source": [
        "#show that it is working\n",
        "ratings_words_df.head(5)"
      ],
      "metadata": {
        "colab": {
          "base_uri": "https://localhost:8080/",
          "height": 206
        },
        "id": "MNfR5Zm0Mk8a",
        "outputId": "479458a6-3042-4ff1-c9ba-50aeb4a58362"
      },
      "execution_count": 10,
      "outputs": [
        {
          "output_type": "execute_result",
          "data": {
            "text/plain": [
              "   rating         word\n",
              "0       4         tang\n",
              "1       4       tomato\n",
              "2       4        sauce\n",
              "3       4  outstanding\n",
              "4       4        crust"
            ],
            "text/html": [
              "\n",
              "  <div id=\"df-2669f70a-b3e1-4d81-a768-a8244aa39d13\" class=\"colab-df-container\">\n",
              "    <div>\n",
              "<style scoped>\n",
              "    .dataframe tbody tr th:only-of-type {\n",
              "        vertical-align: middle;\n",
              "    }\n",
              "\n",
              "    .dataframe tbody tr th {\n",
              "        vertical-align: top;\n",
              "    }\n",
              "\n",
              "    .dataframe thead th {\n",
              "        text-align: right;\n",
              "    }\n",
              "</style>\n",
              "<table border=\"1\" class=\"dataframe\">\n",
              "  <thead>\n",
              "    <tr style=\"text-align: right;\">\n",
              "      <th></th>\n",
              "      <th>rating</th>\n",
              "      <th>word</th>\n",
              "    </tr>\n",
              "  </thead>\n",
              "  <tbody>\n",
              "    <tr>\n",
              "      <th>0</th>\n",
              "      <td>4</td>\n",
              "      <td>tang</td>\n",
              "    </tr>\n",
              "    <tr>\n",
              "      <th>1</th>\n",
              "      <td>4</td>\n",
              "      <td>tomato</td>\n",
              "    </tr>\n",
              "    <tr>\n",
              "      <th>2</th>\n",
              "      <td>4</td>\n",
              "      <td>sauce</td>\n",
              "    </tr>\n",
              "    <tr>\n",
              "      <th>3</th>\n",
              "      <td>4</td>\n",
              "      <td>outstanding</td>\n",
              "    </tr>\n",
              "    <tr>\n",
              "      <th>4</th>\n",
              "      <td>4</td>\n",
              "      <td>crust</td>\n",
              "    </tr>\n",
              "  </tbody>\n",
              "</table>\n",
              "</div>\n",
              "    <div class=\"colab-df-buttons\">\n",
              "\n",
              "  <div class=\"colab-df-container\">\n",
              "    <button class=\"colab-df-convert\" onclick=\"convertToInteractive('df-2669f70a-b3e1-4d81-a768-a8244aa39d13')\"\n",
              "            title=\"Convert this dataframe to an interactive table.\"\n",
              "            style=\"display:none;\">\n",
              "\n",
              "  <svg xmlns=\"http://www.w3.org/2000/svg\" height=\"24px\" viewBox=\"0 -960 960 960\">\n",
              "    <path d=\"M120-120v-720h720v720H120Zm60-500h600v-160H180v160Zm220 220h160v-160H400v160Zm0 220h160v-160H400v160ZM180-400h160v-160H180v160Zm440 0h160v-160H620v160ZM180-180h160v-160H180v160Zm440 0h160v-160H620v160Z\"/>\n",
              "  </svg>\n",
              "    </button>\n",
              "\n",
              "  <style>\n",
              "    .colab-df-container {\n",
              "      display:flex;\n",
              "      gap: 12px;\n",
              "    }\n",
              "\n",
              "    .colab-df-convert {\n",
              "      background-color: #E8F0FE;\n",
              "      border: none;\n",
              "      border-radius: 50%;\n",
              "      cursor: pointer;\n",
              "      display: none;\n",
              "      fill: #1967D2;\n",
              "      height: 32px;\n",
              "      padding: 0 0 0 0;\n",
              "      width: 32px;\n",
              "    }\n",
              "\n",
              "    .colab-df-convert:hover {\n",
              "      background-color: #E2EBFA;\n",
              "      box-shadow: 0px 1px 2px rgba(60, 64, 67, 0.3), 0px 1px 3px 1px rgba(60, 64, 67, 0.15);\n",
              "      fill: #174EA6;\n",
              "    }\n",
              "\n",
              "    .colab-df-buttons div {\n",
              "      margin-bottom: 4px;\n",
              "    }\n",
              "\n",
              "    [theme=dark] .colab-df-convert {\n",
              "      background-color: #3B4455;\n",
              "      fill: #D2E3FC;\n",
              "    }\n",
              "\n",
              "    [theme=dark] .colab-df-convert:hover {\n",
              "      background-color: #434B5C;\n",
              "      box-shadow: 0px 1px 3px 1px rgba(0, 0, 0, 0.15);\n",
              "      filter: drop-shadow(0px 1px 2px rgba(0, 0, 0, 0.3));\n",
              "      fill: #FFFFFF;\n",
              "    }\n",
              "  </style>\n",
              "\n",
              "    <script>\n",
              "      const buttonEl =\n",
              "        document.querySelector('#df-2669f70a-b3e1-4d81-a768-a8244aa39d13 button.colab-df-convert');\n",
              "      buttonEl.style.display =\n",
              "        google.colab.kernel.accessAllowed ? 'block' : 'none';\n",
              "\n",
              "      async function convertToInteractive(key) {\n",
              "        const element = document.querySelector('#df-2669f70a-b3e1-4d81-a768-a8244aa39d13');\n",
              "        const dataTable =\n",
              "          await google.colab.kernel.invokeFunction('convertToInteractive',\n",
              "                                                    [key], {});\n",
              "        if (!dataTable) return;\n",
              "\n",
              "        const docLinkHtml = 'Like what you see? Visit the ' +\n",
              "          '<a target=\"_blank\" href=https://colab.research.google.com/notebooks/data_table.ipynb>data table notebook</a>'\n",
              "          + ' to learn more about interactive tables.';\n",
              "        element.innerHTML = '';\n",
              "        dataTable['output_type'] = 'display_data';\n",
              "        await google.colab.output.renderOutput(dataTable, element);\n",
              "        const docLink = document.createElement('div');\n",
              "        docLink.innerHTML = docLinkHtml;\n",
              "        element.appendChild(docLink);\n",
              "      }\n",
              "    </script>\n",
              "  </div>\n",
              "\n",
              "\n",
              "<div id=\"df-f9557f05-19e0-4dff-a7af-603754c7b335\">\n",
              "  <button class=\"colab-df-quickchart\" onclick=\"quickchart('df-f9557f05-19e0-4dff-a7af-603754c7b335')\"\n",
              "            title=\"Suggest charts\"\n",
              "            style=\"display:none;\">\n",
              "\n",
              "<svg xmlns=\"http://www.w3.org/2000/svg\" height=\"24px\"viewBox=\"0 0 24 24\"\n",
              "     width=\"24px\">\n",
              "    <g>\n",
              "        <path d=\"M19 3H5c-1.1 0-2 .9-2 2v14c0 1.1.9 2 2 2h14c1.1 0 2-.9 2-2V5c0-1.1-.9-2-2-2zM9 17H7v-7h2v7zm4 0h-2V7h2v10zm4 0h-2v-4h2v4z\"/>\n",
              "    </g>\n",
              "</svg>\n",
              "  </button>\n",
              "\n",
              "<style>\n",
              "  .colab-df-quickchart {\n",
              "      --bg-color: #E8F0FE;\n",
              "      --fill-color: #1967D2;\n",
              "      --hover-bg-color: #E2EBFA;\n",
              "      --hover-fill-color: #174EA6;\n",
              "      --disabled-fill-color: #AAA;\n",
              "      --disabled-bg-color: #DDD;\n",
              "  }\n",
              "\n",
              "  [theme=dark] .colab-df-quickchart {\n",
              "      --bg-color: #3B4455;\n",
              "      --fill-color: #D2E3FC;\n",
              "      --hover-bg-color: #434B5C;\n",
              "      --hover-fill-color: #FFFFFF;\n",
              "      --disabled-bg-color: #3B4455;\n",
              "      --disabled-fill-color: #666;\n",
              "  }\n",
              "\n",
              "  .colab-df-quickchart {\n",
              "    background-color: var(--bg-color);\n",
              "    border: none;\n",
              "    border-radius: 50%;\n",
              "    cursor: pointer;\n",
              "    display: none;\n",
              "    fill: var(--fill-color);\n",
              "    height: 32px;\n",
              "    padding: 0;\n",
              "    width: 32px;\n",
              "  }\n",
              "\n",
              "  .colab-df-quickchart:hover {\n",
              "    background-color: var(--hover-bg-color);\n",
              "    box-shadow: 0 1px 2px rgba(60, 64, 67, 0.3), 0 1px 3px 1px rgba(60, 64, 67, 0.15);\n",
              "    fill: var(--button-hover-fill-color);\n",
              "  }\n",
              "\n",
              "  .colab-df-quickchart-complete:disabled,\n",
              "  .colab-df-quickchart-complete:disabled:hover {\n",
              "    background-color: var(--disabled-bg-color);\n",
              "    fill: var(--disabled-fill-color);\n",
              "    box-shadow: none;\n",
              "  }\n",
              "\n",
              "  .colab-df-spinner {\n",
              "    border: 2px solid var(--fill-color);\n",
              "    border-color: transparent;\n",
              "    border-bottom-color: var(--fill-color);\n",
              "    animation:\n",
              "      spin 1s steps(1) infinite;\n",
              "  }\n",
              "\n",
              "  @keyframes spin {\n",
              "    0% {\n",
              "      border-color: transparent;\n",
              "      border-bottom-color: var(--fill-color);\n",
              "      border-left-color: var(--fill-color);\n",
              "    }\n",
              "    20% {\n",
              "      border-color: transparent;\n",
              "      border-left-color: var(--fill-color);\n",
              "      border-top-color: var(--fill-color);\n",
              "    }\n",
              "    30% {\n",
              "      border-color: transparent;\n",
              "      border-left-color: var(--fill-color);\n",
              "      border-top-color: var(--fill-color);\n",
              "      border-right-color: var(--fill-color);\n",
              "    }\n",
              "    40% {\n",
              "      border-color: transparent;\n",
              "      border-right-color: var(--fill-color);\n",
              "      border-top-color: var(--fill-color);\n",
              "    }\n",
              "    60% {\n",
              "      border-color: transparent;\n",
              "      border-right-color: var(--fill-color);\n",
              "    }\n",
              "    80% {\n",
              "      border-color: transparent;\n",
              "      border-right-color: var(--fill-color);\n",
              "      border-bottom-color: var(--fill-color);\n",
              "    }\n",
              "    90% {\n",
              "      border-color: transparent;\n",
              "      border-bottom-color: var(--fill-color);\n",
              "    }\n",
              "  }\n",
              "</style>\n",
              "\n",
              "  <script>\n",
              "    async function quickchart(key) {\n",
              "      const quickchartButtonEl =\n",
              "        document.querySelector('#' + key + ' button');\n",
              "      quickchartButtonEl.disabled = true;  // To prevent multiple clicks.\n",
              "      quickchartButtonEl.classList.add('colab-df-spinner');\n",
              "      try {\n",
              "        const charts = await google.colab.kernel.invokeFunction(\n",
              "            'suggestCharts', [key], {});\n",
              "      } catch (error) {\n",
              "        console.error('Error during call to suggestCharts:', error);\n",
              "      }\n",
              "      quickchartButtonEl.classList.remove('colab-df-spinner');\n",
              "      quickchartButtonEl.classList.add('colab-df-quickchart-complete');\n",
              "    }\n",
              "    (() => {\n",
              "      let quickchartButtonEl =\n",
              "        document.querySelector('#df-f9557f05-19e0-4dff-a7af-603754c7b335 button');\n",
              "      quickchartButtonEl.style.display =\n",
              "        google.colab.kernel.accessAllowed ? 'block' : 'none';\n",
              "    })();\n",
              "  </script>\n",
              "</div>\n",
              "\n",
              "    </div>\n",
              "  </div>\n"
            ],
            "application/vnd.google.colaboratory.intrinsic+json": {
              "type": "dataframe",
              "summary": "{\n  \"name\": \"ratings_words_df\",\n  \"rows\": 5,\n  \"fields\": [\n    {\n      \"column\": \"rating\",\n      \"properties\": {\n        \"dtype\": \"number\",\n        \"std\": 0,\n        \"min\": 4,\n        \"max\": 4,\n        \"num_unique_values\": 1,\n        \"samples\": [\n          4\n        ],\n        \"semantic_type\": \"\",\n        \"description\": \"\"\n      }\n    },\n    {\n      \"column\": \"word\",\n      \"properties\": {\n        \"dtype\": \"string\",\n        \"num_unique_values\": 5,\n        \"samples\": [\n          \"tomato\"\n        ],\n        \"semantic_type\": \"\",\n        \"description\": \"\"\n      }\n    }\n  ]\n}"
            }
          },
          "metadata": {},
          "execution_count": 10
        }
      ]
    },
    {
      "cell_type": "code",
      "source": [
        "# now compute \"answer\" to our question\n",
        "# compute top 10 words per rating using a group by and nlargest\n",
        "ratings_words_df_with_counts = ratings_words_df.groupby(['rating','word']).size().to_frame('counts').reset_index()\n",
        "for rating in ratings_words_df_with_counts['rating'].unique().compute():\n",
        "  print(f\"Top ten for {rating} rating:\")\n",
        "  print(ratings_words_df_with_counts[ratings_words_df_with_counts['rating'] == rating].nlargest(10, 'counts').compute())\n"
      ],
      "metadata": {
        "colab": {
          "base_uri": "https://localhost:8080/"
        },
        "id": "9fe2Am_MXZ-r",
        "outputId": "c22ff631-dfdc-4039-bf7d-f654484ddc1f"
      },
      "execution_count": null,
      "outputs": [
        {
          "output_type": "stream",
          "name": "stdout",
          "text": [
            "Top ten for 1 rating:\n",
            "     rating     word  counts\n",
            "459       1  ordered     347\n",
            "122       1  chicken     277\n",
            "362       1     like     257\n",
            "90        1   burger     201\n",
            "276       1     good     186\n",
            "116       1   cheese     177\n",
            "278       1      got     171\n",
            "494       1    pizza     166\n",
            "598       1   shrimp     156\n",
            "262       1    fries     155\n",
            "Top ten for 2 rating:\n",
            "      rating     word  counts\n",
            "1177       2     good     721\n",
            "1427       2  ordered     617\n",
            "935        2  chicken     551\n",
            "1298       2     like     450\n",
            "894        2   burger     361\n",
            "1155       2    fries     352\n",
            "925        2   cheese     351\n",
            "1180       2      got     323\n",
            "1480       2    pizza     312\n",
            "1152       2    fried     305\n",
            "Top ten for 3 rating:\n",
            "      rating     word  counts\n",
            "2690       3     good    3315\n",
            "2209       3  chicken    1802\n",
            "3188       3  ordered    1445\n",
            "2119       3   burger    1218\n",
            "2930       3     like    1205\n",
            "2647       3    fries    1092\n",
            "2643       3    fried    1014\n",
            "2195       3   cheese    1003\n",
            "3311       3    pizza     922\n",
            "2697       3      got     902\n",
            "Top ten for 4 rating:\n",
            "      rating       word  counts\n",
            "5744       4       good   10076\n",
            "4799       4    chicken    5057\n",
            "5776       4      great    3959\n",
            "5151       4  delicious    3548\n",
            "4619       4     burger    3298\n",
            "6711       4    ordered    3251\n",
            "5624       4      fried    2863\n",
            "6936       4      pizza    2853\n",
            "5628       4      fries    2846\n",
            "4775       4     cheese    2685\n",
            "Top ten for 5 rating:\n",
            "       rating       word  counts\n",
            "10844       5       good   12172\n",
            "9948        5  delicious   10466\n",
            "9381        5    chicken   10450\n",
            "10911       5      great   10126\n",
            "8822        5       best    9370\n",
            "9115        5     burger    6940\n",
            "12778       5      pizza    6683\n",
            "8483        5    amazing    6377\n",
            "9345        5     cheese    6093\n",
            "8472        5       also    6025\n"
          ]
        }
      ]
    }
  ]
}